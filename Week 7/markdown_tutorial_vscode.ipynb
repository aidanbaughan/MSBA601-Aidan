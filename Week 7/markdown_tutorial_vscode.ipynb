{
 "cells": [
  {
   "cell_type": "markdown",
   "metadata": {},
   "source": [
    "# Using Markdown Cells in VSCode Jupyter Notebooks to Teach a Class\n",
    "This notebook provides a structured guide on how to use Markdown cells effectively when teaching a class using Jupyter Notebooks in VSCode."
   ]
  },
  {
   "cell_type": "markdown",
   "metadata": {},
   "source": [
    "## 1. Setting Up Your Jupyter Notebook in VSCode\n",
    "### Step 1: Install Jupyter Extension\n",
    "- Open **VSCode**\n",
    "- Press `Ctrl + P` and type:\n",
    "  ```\n",
    "  ext install ms-toolsai.jupyter\n",
    "  ```\n",
    "- Install the **Jupyter** extension."
   ]
  },
  {
   "cell_type": "markdown",
   "metadata": {},
   "source": [
    "### Step 2: Open or Create a Jupyter Notebook\n",
    "- Open **Command Palette** (`Ctrl + Shift + P` / `Cmd + Shift + P` on Mac)\n",
    "- Search **\"Jupyter: Create New Blank Notebook\"**\n",
    "- Alternatively, open an existing `.ipynb` file."
   ]
  },
  {
   "cell_type": "markdown",
   "metadata": {},
   "source": [
    "### Step 3: Add a Markdown Cell\n",
    "- Click **+** (Add Cell) in the notebook toolbar.\n",
    "- Change the cell type from **Code** to **Markdown** in the dropdown."
   ]
  },
  {
   "cell_type": "markdown",
   "metadata": {},
   "source": [
    "## 2. Markdown Basics for Teaching\n",
    "### Headings (Titles & Sections)\n",
    "Use `#` for headings to structure your content:"
   ]
  },
  {
   "cell_type": "markdown",
   "metadata": {},
   "source": [
    "# Main Title (H1)\n",
    "## Section Title (H2)\n",
    "### Subsection Title (H3)\n",
    "#### Smaller Subsection (H4)"
   ]
  },
  {
   "cell_type": "markdown",
   "metadata": {},
   "source": [
    "### Bold & Italics"
   ]
  },
  {
   "cell_type": "markdown",
   "metadata": {},
   "source": [
    "**Bold Text**\n",
    "*Italic Text*"
   ]
  },
  {
   "cell_type": "markdown",
   "metadata": {},
   "source": [
    "### Lists (Bullet & Numbered)\n",
    "#### Unordered List (Bullets)"
   ]
  },
  {
   "cell_type": "markdown",
   "metadata": {},
   "source": [
    "- Python\n",
    "- Pandas\n",
    "- NumPy"
   ]
  },
  {
   "cell_type": "markdown",
   "metadata": {},
   "source": [
    "#### Ordered List (Numbers)"
   ]
  },
  {
   "cell_type": "markdown",
   "metadata": {},
   "source": [
    "1. Open VSCode\n",
    "2. Install Jupyter Extension\n",
    "3. Create a Notebook"
   ]
  },
  {
   "cell_type": "markdown",
   "metadata": {},
   "source": [
    "## 3. Adding Code Blocks\n",
    "To display code without execution, use triple backticks (```) or indent with 4 spaces:"
   ]
  },
  {
   "cell_type": "markdown",
   "metadata": {},
   "source": [
    "```python\n",
    "import pandas as pd\n",
    "df = pd.read_csv(\"data.csv\")\n",
    "df.head()\n",
    "```"
   ]
  },
  {
   "cell_type": "markdown",
   "metadata": {},
   "source": [
    "## 4. Adding Images\n",
    "To insert an image, use:"
   ]
  },
  {
   "cell_type": "markdown",
   "metadata": {},
   "source": [
    "<img src=\"https://pandas.pydata.org/static/img/pandas_mark.svg\" width=\"200\"/>\n"
   ]
  },
  {
   "cell_type": "markdown",
   "metadata": {},
   "source": [
    "## 5. Adding Equations (LaTeX Support)\n",
    "Mathematical equations can be written using LaTeX inside `$...$` for inline math or `$$...$$` for block equations."
   ]
  },
  {
   "cell_type": "markdown",
   "metadata": {},
   "source": [
    "The area of a circle is given by $A = \\pi r^2$."
   ]
  },
  {
   "cell_type": "markdown",
   "metadata": {},
   "source": [
    "## 6. Creating Tables\n",
    "Tables can be created using `|` and `-`:"
   ]
  },
  {
   "cell_type": "markdown",
   "metadata": {},
   "source": [
    "| Name  | Age | Grade |\n",
    "|-------|-----|-------|\n",
    "| Alice |  24 |   A   |\n",
    "| Bob   |  22 |   B   |"
   ]
  },
  {
   "cell_type": "markdown",
   "metadata": {},
   "source": [
    "## 7. Adding Interactive Links\n",
    "You can add links for external references:"
   ]
  },
  {
   "cell_type": "markdown",
   "metadata": {},
   "source": [
    "[Visit Pandas Documentation](https://pandas.pydata.org/docs/)"
   ]
  },
  {
   "cell_type": "markdown",
   "metadata": {},
   "source": [
    "## 8. Best Practices for Teaching with Markdown in VSCode\n",
    "- **Use Headings** for clear structure.\n",
    "- **Add Images & Equations** where necessary.\n",
    "- **Use Lists** for easy-to-follow steps.\n",
    "- **Keep Code Blocks Separate** from explanations.\n",
    "- **Use Tables** to summarize data.\n",
    "- **Include Hyperlinks** for additional reading."
   ]
  },
  {
   "cell_type": "markdown",
   "metadata": {},
   "source": [
    "With these Markdown techniques, you can create **well-structured, visually appealing, and interactive** Jupyter Notebooks to teach effectively using VSCode! 🚀"
   ]
  }
 ],
 "metadata": {
  "kernelspec": {
   "display_name": "venv",
   "language": "python",
   "name": "python3"
  },
  "language_info": {
   "codemirror_mode": {
    "name": "ipython",
    "version": 3
   },
   "file_extension": ".py",
   "mimetype": "text/x-python",
   "name": "python",
   "nbconvert_exporter": "python",
   "pygments_lexer": "ipython3",
   "version": "3.10.8"
  }
 },
 "nbformat": 4,
 "nbformat_minor": 4
}
