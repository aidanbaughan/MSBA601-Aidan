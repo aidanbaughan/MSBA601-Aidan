{
 "cells": [
  {
   "cell_type": "markdown",
   "id": "35e3c2a4",
   "metadata": {},
   "source": [
    "\n",
    "# File Handling in Python\n",
    "In this notebook, we will explore how to work with files in Python, including:\n",
    "- Reading files\n",
    "- Writing files\n",
    "- Working with binary files\n",
    "- Using the `with` statement\n",
    "- Handling CSV files\n",
    "\n",
    "Let's start with the basics of file handling.\n"
   ]
  },
  {
   "cell_type": "markdown",
   "id": "c0fce947",
   "metadata": {},
   "source": [
    "\n",
    "## Reading Files\n",
    "To read a file, we use the `open()` function and specify the mode as 'r' (read). Once we have the file object, we can use the `read()` method to read the file's content.\n"
   ]
  },
  {
   "cell_type": "code",
   "execution_count": null,
   "id": "1e9daf2d",
   "metadata": {},
   "outputs": [],
   "source": [
    "\n",
    "# Reading a file example\n",
    "# Let's assume we have a file 'example.txt' with some text content.\n",
    "\n",
    "# Open the file in read mode\n",
    "with open('example_output.txt', 'r', encoding='utf-8') as file:\n",
    "    contents = file.read()\n",
    "\n",
    "\n",
    "# Output the contents of the file\n",
    "print(contents)\n"
   ]
  },
  {
   "cell_type": "markdown",
   "id": "577f1d08",
   "metadata": {},
   "source": [
    "\n",
    "## Writing Files\n",
    "To write to a file, we open it in 'w' mode. If the file already exists, it will be overwritten. You can use the `write()` method to add text to the file.\n"
   ]
  },
  {
   "cell_type": "code",
   "execution_count": null,
   "id": "413cc9b4",
   "metadata": {},
   "outputs": [],
   "source": [
    "\n",
    "# Writing to a file example\n",
    "# Open a file in write mode. If the file does not exist, it will be created.\n",
    "with open('example_output.txt', 'w') as file:\n",
    "    file.write(\"This is an example of writing to a file.\\n\")\n",
    "    file.write(\"File handling in Python is simple and easy.\\n\")\n",
    "    file.write(\"Filedhgdghgdhgdgdgg and easy.\")\n",
    "\n",
    "# The file 'example_output.txt' now contains the written text.\n"
   ]
  },
  {
   "cell_type": "markdown",
   "id": "5bfd9924",
   "metadata": {},
   "source": [
    "\n",
    "## Appending Files\n",
    "To append data to an existing file, we open it in 'a' mode. This allows us to add content without overwriting the current data.\n"
   ]
  },
  {
   "cell_type": "code",
   "execution_count": null,
   "id": "fa2014b0",
   "metadata": {},
   "outputs": [],
   "source": [
    "\n",
    "# Appending to a file example\n",
    "# Open a file in append mode. This will add content without overwriting the existing data.\n",
    "with open('example_output.txt', 'a') as file:\n",
    "    file.write(\"\\nThis text is appended to the existing file content.\")\n",
    "    file.write(\"\\nThis text is appended to the existing file content.\")\n",
    "\n",
    "# The file 'example_output.txt' now contains the appended text.\n"
   ]
  },
  {
   "cell_type": "markdown",
   "id": "52d16506",
   "metadata": {},
   "source": [
    "\n",
    "## Binary Files\n",
    "When working with non-text files (like images, videos, etc.), we use binary mode by adding 'b' to the mode string (e.g., 'rb' for reading binary files).\n"
   ]
  },
  {
   "cell_type": "code",
   "execution_count": null,
   "id": "4ef8d59d",
   "metadata": {},
   "outputs": [],
   "source": [
    "\n",
    "# Working with binary files\n",
    "# Let's open an image file (or any binary file) in binary read mode\n",
    "with open('example_image.png', 'rb') as file:\n",
    "    binary_data = file.read(10)  # Reading the first 10 bytes of the binary file\n",
    "\n",
    "print(binary_data)\n"
   ]
  },
  {
   "cell_type": "code",
   "execution_count": null,
   "id": "4fc1bce7",
   "metadata": {},
   "outputs": [],
   "source": [
    "import cv2\n",
    "\n",
    "# Read the image\n",
    "image = cv2.imread('example_image.png')\n",
    "\n",
    "# Display the image\n",
    "cv2.imshow('Image', image)\n",
    "\n",
    "# Wait until a key is pressed, then close the window\n",
    "cv2.waitKey(0)\n",
    "cv2.destroyAllWindows()\n"
   ]
  },
  {
   "cell_type": "markdown",
   "id": "91d66cc9",
   "metadata": {},
   "source": [
    "\n",
    "## The `with` Statement\n",
    "The `with` statement is used to ensure that a file is properly closed after its suite finishes, even if an exception is raised. It's a best practice when working with files in Python.\n"
   ]
  },
  {
   "cell_type": "code",
   "execution_count": null,
   "id": "916cbbe6",
   "metadata": {},
   "outputs": [],
   "source": [
    "\n",
    "# Using the 'with' statement to open and close a file automatically\n",
    "\n",
    "with open('example.txt', 'r', encoding='utf-8') as file:\n",
    "    for line in file:\n",
    "        print(line.strip())\n"
   ]
  },
  {
   "cell_type": "markdown",
   "id": "26970423",
   "metadata": {},
   "source": [
    "\n",
    "## CSV Files\n",
    "The `csv` module allows us to read from and write to CSV (Comma-Separated Values) files. We can use `csv.reader()` to read the contents of a CSV file and `csv.writer()` to write data into one.\n"
   ]
  },
  {
   "cell_type": "code",
   "execution_count": null,
   "id": "108ac25b",
   "metadata": {},
   "outputs": [],
   "source": [
    "\n",
    "import csv\n",
    "\n",
    "# Writing to a CSV file\n",
    "header = ['Name', 'Age', 'Grade']\n",
    "data = [\n",
    "    ['Alice', 23, 'A'],\n",
    "    ['Bob', 21, 'B'],\n",
    "    ['Charlie', 22, 'C']\n",
    "]\n",
    "\n",
    "with open('students.csv', 'w', newline='') as file:\n",
    "    writer = csv.writer(file)\n",
    "    writer.writerow(header)\n",
    "    writer.writerows(data)\n",
    "\n",
    "# Reading from the CSV file\n",
    "with open('students.csv', 'r') as file:\n",
    "    reader = csv.reader(file)\n",
    "    for row in reader:\n",
    "        print(row)\n"
   ]
  }
 ],
 "metadata": {
  "kernelspec": {
   "display_name": "venv",
   "language": "python",
   "name": "python3"
  },
  "language_info": {
   "codemirror_mode": {
    "name": "ipython",
    "version": 3
   },
   "file_extension": ".py",
   "mimetype": "text/x-python",
   "name": "python",
   "nbconvert_exporter": "python",
   "pygments_lexer": "ipython3",
   "version": "3.10.8"
  }
 },
 "nbformat": 4,
 "nbformat_minor": 5
}
